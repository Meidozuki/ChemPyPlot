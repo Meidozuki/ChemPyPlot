{
 "cells": [
  {
   "cell_type": "code",
   "execution_count": 1,
   "metadata": {},
   "outputs": [],
   "source": [
    "import math\n",
    "import numpy as np\n",
    "from numpy import linalg\n",
    "from scipy import stats\n",
    "from scipy import constants as cons\n",
    "from scipy.stats import linregress\n",
    "import pandas as pd\n",
    "import matplotlib.pyplot as plt\n",
    "from IPython.display import display\n",
    "# from PIL import Image"
   ]
  },
  {
   "cell_type": "code",
   "execution_count": 2,
   "metadata": {
    "scrolled": true
   },
   "outputs": [],
   "source": [
    "# help(plt.ticklabel_format)"
   ]
  },
  {
   "cell_type": "code",
   "execution_count": 3,
   "metadata": {},
   "outputs": [],
   "source": [
    "from IPython.core.interactiveshell import InteractiveShell\n",
    "InteractiveShell.ast_node_interactivity='all'\n",
    "\n",
    "# plt.rcParams['font.sans-serif']='KaiTi'\n",
    "\n",
    "F=cons.e*cons.N_A\n",
    "t2t=273.15"
   ]
  },
  {
   "cell_type": "markdown",
   "metadata": {},
   "source": [
    "$\\lim\\limits_{n\\rightarrow \\infty} ({n+1 \\over n})^n$"
   ]
  },
  {
   "cell_type": "markdown",
   "metadata": {},
   "source": [
    "$P=P_2^\\infty ={3\\alpha \\epsilon _1 \\over (\\epsilon _1 +2)^2}*{M_1 \\over \\rho _1}+\n",
    "{\\epsilon _1-1 \\over \\epsilon _1 +2}*{M_2-\\beta M_1 \\over \\rho}$"
   ]
  },
  {
   "cell_type": "markdown",
   "metadata": {},
   "source": [
    "$\\phi(x)=\\int_0^{x^2} xf(t)dt,\\phi^{'}(x)=?$"
   ]
  },
  {
   "cell_type": "code",
   "execution_count": 4,
   "metadata": {},
   "outputs": [],
   "source": [
    "def Array(x,dtype=None):\n",
    "    return np.array(x,dtype=dtype)\n",
    "\n",
    "def Like(x):\n",
    "    return range(len(x))\n",
    "\n",
    "def vectorize(*args,f):\n",
    "    return np.vectorize(f)(*args)\n",
    "\n",
    "def new_vector(arg,shape=None,like=None,pos=None):\n",
    "    #用nan填充到指定长度vector\n",
    "    if shape is None: shape=like.shape[0]\n",
    "    assert shape is not None\n",
    "    \n",
    "    if pos is None: pos=shape//2\n",
    "    re=[np.nan]*pos\n",
    "    re.append(arg)\n",
    "    re+=[np.nan]*(shape-pos-1)\n",
    "    return np.expand_dims(re,axis=0)\n",
    "\n",
    "def slice_vector(v,slices):\n",
    "    re=[]\n",
    "    for i in slices:\n",
    "        re.append(v[i])\n",
    "    return np.array(re)\n",
    "\n",
    "def print_lists(*args,var=locals().items()):\n",
    "    for lis in args:\n",
    "        for k,v in var:\n",
    "            if v is lis:\n",
    "                print(k,end=' = ')\n",
    "        print(lis)\n",
    "        \n",
    "def form_print(x,format_s=None):\n",
    "    if format_s is None:\n",
    "        print(*x,sep='\\t')\n",
    "    else:\n",
    "        for i in x:\n",
    "            print(format_s % i,end='')\n",
    "        print()"
   ]
  },
  {
   "cell_type": "code",
   "execution_count": 5,
   "metadata": {},
   "outputs": [],
   "source": [
    "def quick_axis_label(xlabel=None,ylabel=None):\n",
    "    if xlabel is not None:\n",
    "        plt.xlabel(xlabel)\n",
    "    if ylabel is not None:\n",
    "        plt.ylabel(ylabel)\n",
    "        \n",
    "def self_adaptive_axis_range(x=None,y=None,bias_coef=0.01):\n",
    "    def cal_range(x):\n",
    "        mi,ma=min(x),max(x)\n",
    "        R=ma-mi\n",
    "        bias=R*bias_coef\n",
    "        return mi-bias,ma+bias\n",
    "    \n",
    "    if x is not None:\n",
    "        plt.xlim(*cal_range(x))\n",
    "    if y is not None:\n",
    "        plt.ylim(*cal_range(y))"
   ]
  },
  {
   "cell_type": "code",
   "execution_count": 6,
   "metadata": {},
   "outputs": [],
   "source": [
    "def show_data_frame(data,index=None,columns=None,formatter=None,subset=None,index_name=None,columns_name=None):\n",
    "    if not isinstance(data,np.ndarray): data=np.array(data)\n",
    "    assert len(data.shape) == 2\n",
    "    if index is None:\n",
    "        index=range(1,data.shape[0]+1)\n",
    "    df=pd.DataFrame(data,index=index,columns=columns)\n",
    "    df.index.name=index_name\n",
    "    df.columns.name=columns_name\n",
    "    if formatter: df=df.style.format(formatter,subset=subset)\n",
    "    return df\n",
    "\n",
    "def arrange_formatter(*args):\n",
    "    global columns\n",
    "    i=1\n",
    "    re={}\n",
    "    while (i < len(args)):\n",
    "        k,v=args[i-1],args[i]\n",
    "        if type(k) is int:\n",
    "            re[columns[k]]=v\n",
    "        elif isinstance(k,(list,range)):\n",
    "            for index in k:\n",
    "                re[columns[index]]=v\n",
    "        i+=2\n",
    "    print(re)\n",
    "    return re\n",
    "\n",
    "def nan_white(df):\n",
    "    def nan_white_fn(x):\n",
    "        if np.isnan(x):\n",
    "            return 'color:white'\n",
    "        else:\n",
    "            return 'color:black'\n",
    "        \n",
    "    try:\n",
    "        return df.style.applymap(nan_white_fn)\n",
    "    except:\n",
    "        return df.applymap(nan_white_fn)\n",
    "    \n",
    "def slice_column(df,idx):\n",
    "    idx=[df.columns[i] for i in idx]\n",
    "    return df[idx]\n",
    "\n",
    "def br(s,step=15):\n",
    "    ls=list(s)\n",
    "    i=1\n",
    "    while i*step-1 < len(s):\n",
    "        ls.insert(i*step-1,'<br>')\n",
    "        i+=1\n",
    "    return ''.join(ls)\n",
    "\n",
    "def at(df,i):\n",
    "    return np.array(df[df.columns[i]])"
   ]
  },
  {
   "cell_type": "code",
   "execution_count": 42,
   "metadata": {},
   "outputs": [],
   "source": [
    "def show_regress(x,y,degree=1,force=False,\n",
    "                 scatter=True,clip_on=False,\n",
    "                 extend_to_axis=False,extend=None,\n",
    "                 xlabel=None,ylabel=None,plot_label=None,\n",
    "                 xlim=None,ylim=None,\n",
    "                 verbose=1,show=True):\n",
    "    '''\n",
    "    拟合数据x,y并且绘制所拟合曲线\n",
    "    degree为多项式次数，默认为1\n",
    "    可选参数：\n",
    "    xlabel,ylabel为坐标轴标签，plot_label为曲线标签\n",
    "    scatter为True（默认）时绘制原始x,y散点,clip_on传入scatter\n",
    "    xlim和ylim支持快捷格式'min','max','minmax'，以及如同plt.xlim((left,right))原始参数\n",
    "    extend_to_axis为True则将曲线绘制到x与y轴的截距，extend为自由增加x取值\n",
    "    '''\n",
    "    \n",
    "    def set_axis_range(feature,limit=None,**kwargs):\n",
    "        import logging\n",
    "        def check_format_str(s):\n",
    "            words=['min','max','minmax']\n",
    "            if isinstance(s,str) and s in words:\n",
    "                return True\n",
    "            else:\n",
    "                logging.warning(f\"str only support for {words},but received {s}\")\n",
    "                return False\n",
    "            \n",
    "        if feature not in ['x','y']:\n",
    "            raise ValueError\n",
    "        fn_dict={'x':(plt.xlim,x), 'y':(plt.ylim,y)}\n",
    "        fn,var=fn_dict[feature]\n",
    "        if isinstance(limit,tuple):\n",
    "            fn(limit)\n",
    "        elif isinstance(limit,str):\n",
    "            if check_format_str(limit) is False:\n",
    "                return\n",
    "            elif limit == 'min':\n",
    "                fn((min(var),None))\n",
    "            elif limit == 'max':\n",
    "                fn((None,max(var)))\n",
    "            elif limit == 'minmax':\n",
    "                fn((min(var),max(var)))\n",
    "    \n",
    "    global reg\n",
    "    #线性回归且非强制多项式\n",
    "    if degree == 1 and not force:\n",
    "        #线性回归输出参数以及回归方程和拟合优度\n",
    "        reg=linregress(x,y)\n",
    "        if verbose > 0:\n",
    "            print(reg)\n",
    "            if verbose > 1:\n",
    "                print('y={:.3e}x {:+.3e}'.format(reg.slope,reg.intercept),end=' \\t')\n",
    "            print(\"R^2=%.5f\" % np.square(reg.rvalue))\n",
    "    else:\n",
    "        #多项式回归输出多项式系数\n",
    "        reg=np.polyfit(x,y,degree)\n",
    "        print(reg)\n",
    "\n",
    "    plt.xlabel(xlabel)\n",
    "    plt.ylabel(ylabel)\n",
    "    if scatter: plt.scatter(x,y,clip_on=clip_on)\n",
    "\n",
    "    if extend_to_axis:\n",
    "        x=np.append(x,[0])\n",
    "        plt.xlim(left=0)\n",
    "    if extend:\n",
    "        x=np.append(x,[extend])\n",
    "        \n",
    "    #产生回归y值\n",
    "    if degree == 1 and not force:\n",
    "        predict=[i*reg.slope+reg.intercept for i in x]\n",
    "    else:\n",
    "        predict=[np.polyval(reg,i) for i in x]\n",
    "    #绘制\n",
    "    if xlim is not None:\n",
    "        set_axis_range('x',xlim)\n",
    "    if ylim is not None:\n",
    "        set_axis_range('y',ylim)\n",
    "                \n",
    "    plt.plot(x,predict,label=plot_label,linewidth=4)\n",
    "    if show:\n",
    "        plt.show()\n",
    "    \n",
    "def from_standard_curve(y,print_fn=False):\n",
    "    global reg\n",
    "    if print_fn:\n",
    "        for i in y:\n",
    "            print((i-reg.intercept)/reg.slope)\n",
    "    else:\n",
    "        return (y-reg.intercept)/reg.slope"
   ]
  },
  {
   "cell_type": "code",
   "execution_count": 44,
   "metadata": {},
   "outputs": [
    {
     "name": "stdout",
     "output_type": "stream",
     "text": [
      "LinregressResult(slope=1.0, intercept=0.0, rvalue=1.0, pvalue=0.0, stderr=0.0)\n",
      "R^2=1.00000\n"
     ]
    },
    {
     "data": {
      "image/png": "[encoded data removed]",
      "text/plain": [
       "<Figure size 432x288 with 1 Axes>"
      ]
     },
     "metadata": {
      "needs_background": "light"
     },
     "output_type": "display_data"
    }
   ],
   "source": [
    "show_regress([1,2],[1,2],xlim=(1,None),ylim='minmax')"
   ]
  },
  {
   "cell_type": "code",
   "execution_count": 8,
   "metadata": {},
   "outputs": [],
   "source": [
    "def adj_f(t0,asst,h0):\n",
    "    h=(t0-h0)\n",
    "    dt=(t0-asst)\n",
    "    return t0+1.56e-4*h*dt\n",
    "\n",
    "def new_c(volume,c0,total_V):\n",
    "    return c0*volume/total_V\n",
    "\n",
    "def time_change(expr):\n",
    "    m,sec=expr//100,expr%100\n",
    "    assert sec <= 60\n",
    "    return m*60+sec"
   ]
  },
  {
   "cell_type": "code",
   "execution_count": 9,
   "metadata": {},
   "outputs": [],
   "source": [
    "def relative_error(pi,p0):\n",
    "    return abs(pi-p0)/p0*100\n",
    "\n",
    "def Q_check(data,idx,alpha=0.1):\n",
    "    Q_table={0.1:[0,0,0,0.94,0.76,0.64,0.56,0.51,0.47,0.44,0.41],\n",
    "             0.05:[0,0,0,0.97,0.84,0.73,0.64,0.59,0.54,0.51,0.49]}\n",
    "    upper,lower=np.max(data),np.min(data)\n",
    "    n=len(data)\n",
    "    if data[idx] == upper:\n",
    "        near=np.max(np.delete(data,idx))\n",
    "    else:\n",
    "        near=np.min(np.delete(data,idx))\n",
    "    Q=abs((data[idx]-near)/(upper-lower))\n",
    "    Q_lim=Q_table[alpha][n]\n",
    "    print(f'n={n}, Q={Q}, limits={Q_lim}')\n",
    "    return Q > Q_lim\n",
    "\n",
    "def cal_Cronbache_alpha(k,var):\n",
    "    return (k/(k-1))*(var[-1]-sum(var[:-1]))/var[-1]"
   ]
  },
  {
   "cell_type": "code",
   "execution_count": 10,
   "metadata": {},
   "outputs": [],
   "source": [
    "def t_interval(x,alpha=0.8):\n",
    "    n=len(x)-1\n",
    "    avg=np.mean(x)\n",
    "    std=np.std(x,ddof=1)\n",
    "    interval=np.array(stats.t.interval(alpha,n))\n",
    "    re=avg+std/np.sqrt(n)*interval\n",
    "    print('{:.4f}+/-{:.4f}'.format(avg,re[1]-avg))\n",
    "    return re"
   ]
  },
  {
   "cell_type": "code",
   "execution_count": 13,
   "metadata": {},
   "outputs": [],
   "source": [
    "Hg=13.6*1e3\n",
    "g=9.8\n",
    "p0=1.013e4"
   ]
  },
  {
   "cell_type": "code",
   "execution_count": null,
   "metadata": {},
   "outputs": [],
   "source": []
  },
  {
   "cell_type": "code",
   "execution_count": 29,
   "metadata": {},
   "outputs": [
    {
     "data": {
      "text/plain": [
       "156.88078276194315"
      ]
     },
     "execution_count": 29,
     "metadata": {},
     "output_type": "execute_result"
    }
   ],
   "source": [
    "np.sqrt(344.7*71.4)"
   ]
  },
  {
   "cell_type": "code",
   "execution_count": 32,
   "metadata": {},
   "outputs": [
    {
     "data": {
      "text/plain": [
       "1.8876221516200714e-05"
      ]
     },
     "execution_count": 32,
     "metadata": {},
     "output_type": "execute_result"
    }
   ],
   "source": [
    "1.858e-27*(313**1.5)/1/(3.569**2*1e-20)/1.075*np.sqrt(1/28+1/36.5)"
   ]
  },
  {
   "cell_type": "code",
   "execution_count": 33,
   "metadata": {},
   "outputs": [
    {
     "data": {
      "text/plain": [
       "0.2647058823529412"
      ]
     },
     "execution_count": 33,
     "metadata": {},
     "output_type": "execute_result"
    }
   ],
   "source": [
    "r1=10.65e-2\n",
    "r2=17.65e-2\n",
    "rho=900\n",
    "rho*(4)/Hg"
   ]
  },
  {
   "cell_type": "code",
   "execution_count": 30,
   "metadata": {},
   "outputs": [
    {
     "data": {
      "text/plain": [
       "0.362116991643454"
      ]
     },
     "execution_count": 30,
     "metadata": {},
     "output_type": "execute_result"
    }
   ],
   "source": [
    "V=Array([429,425,420])/1e2\n",
    "m=0.13\n",
    "n=Array(m)/(46+1+32+64+12*18)\n",
    "n*1e3"
   ]
  },
  {
   "cell_type": "code",
   "execution_count": 29,
   "metadata": {},
   "outputs": [
    {
     "data": {
      "text/plain": [
       "[<matplotlib.lines.Line2D at 0x2a1475994e0>]"
      ]
     },
     "execution_count": 29,
     "metadata": {},
     "output_type": "execute_result"
    },
    {
     "data": {
      "image/png": "[encoded data removed]",
      "text/plain": [
       "<Figure size 432x288 with 1 Axes>"
      ]
     },
     "metadata": {
      "needs_background": "light"
     },
     "output_type": "display_data"
    }
   ],
   "source": [
    "def formatter(x,pos):\n",
    "    return '%.7f' % x\n",
    "f=plt.FuncFormatter(formatter)\n",
    "plt.gca().yaxis.set_major_formatter(f)\n",
    "\n",
    "plt.ylabel('E/Ry')\n",
    "plt.plot(['bond','ring','on'],[-454.9350115539,-454.9350086193,-454.9350120047])"
   ]
  },
  {
   "cell_type": "code",
   "execution_count": null,
   "metadata": {},
   "outputs": [],
   "source": []
  },
  {
   "cell_type": "code",
   "execution_count": 58,
   "metadata": {},
   "outputs": [
    {
     "data": {
      "text/plain": [
       "0.0026169546327169846"
      ]
     },
     "execution_count": 58,
     "metadata": {},
     "output_type": "execute_result"
    },
    {
     "data": {
      "text/plain": [
       "0.009259259259259259"
      ]
     },
     "execution_count": 58,
     "metadata": {},
     "output_type": "execute_result"
    },
    {
     "data": {
      "text/plain": [
       "0.040268456375838924"
      ]
     },
     "execution_count": 58,
     "metadata": {},
     "output_type": "execute_result"
    }
   ],
   "source": [
    "c=10.36/329.9/12\n",
    "c\n",
    "c1=2.5/270\n",
    "c1\n",
    "3/(39+35.5)"
   ]
  },
  {
   "cell_type": "code",
   "execution_count": 70,
   "metadata": {},
   "outputs": [
    {
     "data": {
      "text/plain": [
       "0.13844"
      ]
     },
     "execution_count": 70,
     "metadata": {},
     "output_type": "execute_result"
    }
   ],
   "source": [
    "4e-4*0.1*3461"
   ]
  },
  {
   "cell_type": "code",
   "execution_count": 79,
   "metadata": {
    "scrolled": true
   },
   "outputs": [
    {
     "name": "stdout",
     "output_type": "stream",
     "text": [
      "Help on built-in function normal:\n",
      "\n",
      "normal(...) method of numpy.random.mtrand.RandomState instance\n",
      "    normal(loc=0.0, scale=1.0, size=None)\n",
      "    \n",
      "    Draw random samples from a normal (Gaussian) distribution.\n",
      "    \n",
      "    The probability density function of the normal distribution, first\n",
      "    derived by De Moivre and 200 years later by both Gauss and Laplace\n",
      "    independently [2]_, is often called the bell curve because of\n",
      "    its characteristic shape (see the example below).\n",
      "    \n",
      "    The normal distributions occurs often in nature.  For example, it\n",
      "    describes the commonly occurring distribution of samples influenced\n",
      "    by a large number of tiny, random disturbances, each with its own\n",
      "    unique distribution [2]_.\n",
      "    \n",
      "    .. note::\n",
      "        New code should use the ``normal`` method of a ``default_rng()``\n",
      "        instance instead; please see the :ref:`random-quick-start`.\n",
      "    \n",
      "    Parameters\n",
      "    ----------\n",
      "    loc : float or array_like of floats\n",
      "        Mean (\"centre\") of the distribution.\n",
      "    scale : float or array_like of floats\n",
      "        Standard deviation (spread or \"width\") of the distribution. Must be\n",
      "        non-negative.\n",
      "    size : int or tuple of ints, optional\n",
      "        Output shape.  If the given shape is, e.g., ``(m, n, k)``, then\n",
      "        ``m * n * k`` samples are drawn.  If size is ``None`` (default),\n",
      "        a single value is returned if ``loc`` and ``scale`` are both scalars.\n",
      "        Otherwise, ``np.broadcast(loc, scale).size`` samples are drawn.\n",
      "    \n",
      "    Returns\n",
      "    -------\n",
      "    out : ndarray or scalar\n",
      "        Drawn samples from the parameterized normal distribution.\n",
      "    \n",
      "    See Also\n",
      "    --------\n",
      "    scipy.stats.norm : probability density function, distribution or\n",
      "        cumulative density function, etc.\n",
      "    Generator.normal: which should be used for new code.\n",
      "    \n",
      "    Notes\n",
      "    -----\n",
      "    The probability density for the Gaussian distribution is\n",
      "    \n",
      "    .. math:: p(x) = \\frac{1}{\\sqrt{ 2 \\pi \\sigma^2 }}\n",
      "                     e^{ - \\frac{ (x - \\mu)^2 } {2 \\sigma^2} },\n",
      "    \n",
      "    where :math:`\\mu` is the mean and :math:`\\sigma` the standard\n",
      "    deviation. The square of the standard deviation, :math:`\\sigma^2`,\n",
      "    is called the variance.\n",
      "    \n",
      "    The function has its peak at the mean, and its \"spread\" increases with\n",
      "    the standard deviation (the function reaches 0.607 times its maximum at\n",
      "    :math:`x + \\sigma` and :math:`x - \\sigma` [2]_).  This implies that\n",
      "    normal is more likely to return samples lying close to the mean, rather\n",
      "    than those far away.\n",
      "    \n",
      "    References\n",
      "    ----------\n",
      "    .. [1] Wikipedia, \"Normal distribution\",\n",
      "           https://en.wikipedia.org/wiki/Normal_distribution\n",
      "    .. [2] P. R. Peebles Jr., \"Central Limit Theorem\" in \"Probability,\n",
      "           Random Variables and Random Signal Principles\", 4th ed., 2001,\n",
      "           pp. 51, 51, 125.\n",
      "    \n",
      "    Examples\n",
      "    --------\n",
      "    Draw samples from the distribution:\n",
      "    \n",
      "    >>> mu, sigma = 0, 0.1 # mean and standard deviation\n",
      "    >>> s = np.random.normal(mu, sigma, 1000)\n",
      "    \n",
      "    Verify the mean and the variance:\n",
      "    \n",
      "    >>> abs(mu - np.mean(s))\n",
      "    0.0  # may vary\n",
      "    \n",
      "    >>> abs(sigma - np.std(s, ddof=1))\n",
      "    0.1  # may vary\n",
      "    \n",
      "    Display the histogram of the samples, along with\n",
      "    the probability density function:\n",
      "    \n",
      "    >>> import matplotlib.pyplot as plt\n",
      "    >>> count, bins, ignored = plt.hist(s, 30, density=True)\n",
      "    >>> plt.plot(bins, 1/(sigma * np.sqrt(2 * np.pi)) *\n",
      "    ...                np.exp( - (bins - mu)**2 / (2 * sigma**2) ),\n",
      "    ...          linewidth=2, color='r')\n",
      "    >>> plt.show()\n",
      "    \n",
      "    Two-by-four array of samples from N(3, 6.25):\n",
      "    \n",
      "    >>> np.random.normal(3, 2.5, size=(2, 4))\n",
      "    array([[-4.49401501,  4.00950034, -1.81814867,  7.29718677],   # random\n",
      "           [ 0.39924804,  4.68456316,  4.99394529,  4.84057254]])  # random\n",
      "\n"
     ]
    }
   ],
   "source": [
    "help(np.random.normal)"
   ]
  },
  {
   "cell_type": "code",
   "execution_count": 171,
   "metadata": {},
   "outputs": [],
   "source": [
    "A4=Array([58,55,52,51,49,46,44])/1e3+0.1\n",
    "A6=Array([56,52,49,46,44,41,39])/1e3+0.1\n",
    "A8=(A4-0.032)*2**1.5-0.2+np.random.normal(0,0.001,size=(7))\n",
    "A12=Array([151,138,127,116,106,98,89])/1e3\n",
    "form_print(A4,format_s='%.3f\\t')\n",
    "form_print(A6,format_s='%.3f\\t')\n",
    "form_print(A8,format_s='%.3f\\t')\n",
    "form_print(A12,format_s='%.3f\\t')"
   ]
  },
  {
   "cell_type": "code",
   "execution_count": 175,
   "metadata": {},
   "outputs": [
    {
     "name": "stdout",
     "output_type": "stream",
     "text": [
      "0.158\t0.155\t0.152\t0.151\t0.149\t0.146\t0.144\t\n",
      "2.071\t2.096\t2.120\t2.129\t2.146\t2.172\t2.189\t\n",
      "0.156\t0.152\t0.149\t0.146\t0.144\t0.141\t0.139\t\n",
      "2.087\t2.120\t2.146\t2.172\t2.189\t2.216\t2.235\t\n",
      "0.157\t0.147\t0.140\t0.135\t0.131\t0.120\t0.117\t\n",
      "2.076\t2.161\t2.225\t2.271\t2.309\t2.428\t2.466\t\n",
      "0.151\t0.138\t0.127\t0.116\t0.106\t0.098\t0.089\t\n",
      "2.129\t2.244\t2.354\t2.477\t2.604\t2.718\t2.865\t\n"
     ]
    }
   ],
   "source": [
    "for i in [A4,A6,A8,A12]:\n",
    "    form_print(i,format_s='%.3f\\t')\n",
    "    form_print(-np.log(i-0.032),format_s='%.3f\\t')"
   ]
  },
  {
   "cell_type": "code",
   "execution_count": 182,
   "metadata": {},
   "outputs": [
    {
     "name": "stdout",
     "output_type": "stream",
     "text": [
      "2.707*10^-3\t3.461*10^-3\t8.830*10^-3\t17.375*10^-3\t\n"
     ]
    }
   ],
   "source": [
    "form_print(Array(k)*1e3,format_s='%.3f*10^-3\\t')"
   ]
  },
  {
   "cell_type": "code",
   "execution_count": 165,
   "metadata": {},
   "outputs": [
    {
     "name": "stdout",
     "output_type": "stream",
     "text": [
      "LinregressResult(slope=0.002707340453618795, intercept=2.0749078790697397, rvalue=0.9945558351846365, pvalue=4.188072546479696e-06, stderr=0.00012685787495148422, intercept_stderr=0.0032017480098378267)\n",
      "R^2=0.98914\n",
      "LinregressResult(slope=0.0034608213165196796, intercept=2.093817848540155, rvalue=0.9968483495400372, pvalue=1.0692156393546418e-06, stderr=0.00012317048320868308, intercept_stderr=0.003108682449828082)\n",
      "R^2=0.99371\n",
      "LinregressResult(slope=0.008829622934555675, intercept=2.0894466355801895, rvalue=0.9924069253259085, pvalue=9.610127223717261e-06, stderr=0.0004894014209550593, intercept_stderr=0.01235193342276882)\n",
      "R^2=0.98487\n",
      "LinregressResult(slope=0.01737549580815609, intercept=2.1194373840490597, rvalue=0.9993217742279061, pvalue=2.3000207225167077e-08, stderr=0.0002863355991073853, intercept_stderr=0.007226783792006651)\n",
      "R^2=0.99864\n"
     ]
    },
    {
     "data": {
      "text/plain": [
       "<matplotlib.legend.Legend at 0x169d3468470>"
      ]
     },
     "execution_count": 165,
     "metadata": {},
     "output_type": "execute_result"
    },
    {
     "data": {
      "image/png": "[encoded data removed]",
      "text/plain": [
       "<Figure size 576x432 with 1 Axes>"
      ]
     },
     "metadata": {
      "needs_background": "light"
     },
     "output_type": "display_data"
    }
   ],
   "source": [
    "k=[]\n",
    "fig=plt.gcf()\n",
    "fig.set_size_inches((8,6))\n",
    "x=np.linspace(0,42,7)\n",
    "data=[-np.log(A-0.032) for A in [A4,A6,A8,A12]]\n",
    "for y in data:\n",
    "    show_regress(x,y,show=False,extend_to_axis=True)\n",
    "    k.append(reg.slope)\n",
    "quick_axis_label('$t$/min','$-$ln($A-A_\\infty$)')\n",
    "plt.legend([\"%d mmol\"%i for i in [4,6,8,12]])"
   ]
  },
  {
   "cell_type": "code",
   "execution_count": 183,
   "metadata": {},
   "outputs": [
    {
     "name": "stdout",
     "output_type": "stream",
     "text": [
      "LinregressResult(slope=1.7925492275667492, intercept=3.822738405625689, rvalue=0.9675778464121253, pvalue=0.0324221535878747, stderr=0.330869754029598, intercept_stderr=1.6504908579432946)\n",
      "y=1.793e+00x +3.823e+00 \tR^2=0.93621\n"
     ]
    },
    {
     "data": {
      "image/png": "[encoded data removed]",
      "text/plain": [
       "<Figure size 432x288 with 1 Axes>"
      ]
     },
     "metadata": {
      "needs_background": "light"
     },
     "output_type": "display_data"
    }
   ],
   "source": [
    "c=Array([4,6,8,12])*1e-3\n",
    "show_regress(np.log(c),np.log(k),show=0,verbose=2)\n",
    "quick_axis_label('lnc','lnk')"
   ]
  },
  {
   "cell_type": "code",
   "execution_count": 191,
   "metadata": {},
   "outputs": [],
   "source": [
    "t=np.linspace(0,25,6,dtype=np.int32)\n",
    "a1=Array([232,225,222,220,218,214])/1000\n",
    "a2=Array([192,186,181,176,171,167])/1e3\n",
    "a3=Array([201,190,181,173,166,158])/1e3\n",
    "a4=Array([225,210,197,186,177,169])/1e3"
   ]
  },
  {
   "cell_type": "code",
   "execution_count": 199,
   "metadata": {
    "scrolled": false
   },
   "outputs": [
    {
     "name": "stdout",
     "output_type": "stream",
     "text": [
      "LinregressResult(slope=-0.0006457142857142864, intercept=0.22990476190476192, rvalue=-0.9726091908384733, pvalue=0.0011151095744842097, stderr=7.716049181153933e-05, intercept_stderr=0.0011680749517777181)\n",
      "R^2=0.94597\n",
      "LinregressResult(slope=-0.0009999999999999998, intercept=0.1913333333333333, rvalue=-0.9984796646472148, pvalue=3.4653723109375876e-06, stderr=2.7602622373693365e-05, intercept_stderr=0.0004178554470186603)\n",
      "R^2=0.99696\n",
      "LinregressResult(slope=-0.001685714285714286, intercept=0.19923809523809527, rvalue=-0.9969497593608393, pvalue=1.3941762264597662e-05, stderr=6.59828879073861e-05, intercept_stderr=0.0009988655696858632)\n",
      "R^2=0.99391\n",
      "LinregressResult(slope=-0.0022285714285714287, intercept=0.2218571428571429, rvalue=-0.9929097879623161, pvalue=7.522844370590097e-05, stderr=0.00013340134319918595, intercept_stderr=0.0020194631198704816)\n",
      "R^2=0.98587\n"
     ]
    },
    {
     "data": {
      "text/plain": [
       "<matplotlib.legend.Legend at 0x169d19fb0f0>"
      ]
     },
     "execution_count": 199,
     "metadata": {},
     "output_type": "execute_result"
    },
    {
     "data": {
      "image/png": "[encoded data removed]",
      "text/plain": [
       "<Figure size 432x288 with 1 Axes>"
      ]
     },
     "metadata": {
      "needs_background": "light"
     },
     "output_type": "display_data"
    }
   ],
   "source": [
    "k=[]\n",
    "for i in [a1,a2,a3,a4]:\n",
    "    show_regress(t,i,show=False)\n",
    "    k.append(reg.slope)\n",
    "plt.legend(['%d$^{\\circ}$C'%i for i in [20,25,35,45]])\n",
    "quick_axis_label('$t$/min','A')"
   ]
  },
  {
   "cell_type": "code",
   "execution_count": 211,
   "metadata": {},
   "outputs": [
    {
     "name": "stdout",
     "output_type": "stream",
     "text": [
      "LinregressResult(slope=-4549.421622708924, intercept=8.274082157395387, rvalue=-0.9815216065862661, pvalue=0.01847839341373391, stderr=627.1520352603155, intercept_stderr=2.063333566268747)\n",
      "y=-4.549e+03x +8.274e+00 \tR^2=0.96338\n"
     ]
    },
    {
     "data": {
      "image/png": "[encoded data removed]",
      "text/plain": [
       "<Figure size 432x288 with 1 Axes>"
      ]
     },
     "metadata": {
      "needs_background": "light"
     },
     "output_type": "display_data"
    }
   ],
   "source": [
    "T=1/(Array([20,25,35,45])+273.15)\n",
    "show_regress(T,np.log(np.abs(k)),show=False,verbose=2)\n",
    "quick_axis_label(r'1/T /$\\mathrm{K^{-1}}$','lnk')"
   ]
  },
  {
   "cell_type": "code",
   "execution_count": 213,
   "metadata": {},
   "outputs": [],
   "source": [
    "data=Array([[99,88,79,71,65],\n",
    "      [119,107,98,89,83],\n",
    "      [132,117,105,97,91],\n",
    "      [153,135,124,116,114]])/1e3"
   ]
  },
  {
   "cell_type": "code",
   "execution_count": 214,
   "metadata": {
    "scrolled": true
   },
   "outputs": [
    {
     "data": {
      "text/html": [
       "<div>\n",
       "<style scoped>\n",
       "    .dataframe tbody tr th:only-of-type {\n",
       "        vertical-align: middle;\n",
       "    }\n",
       "\n",
       "    .dataframe tbody tr th {\n",
       "        vertical-align: top;\n",
       "    }\n",
       "\n",
       "    .dataframe thead th {\n",
       "        text-align: right;\n",
       "    }\n",
       "</style>\n",
       "<table border=\"1\" class=\"dataframe\">\n",
       "  <thead>\n",
       "    <tr style=\"text-align: right;\">\n",
       "      <th></th>\n",
       "      <th>0</th>\n",
       "      <th>6</th>\n",
       "      <th>12</th>\n",
       "      <th>19</th>\n",
       "      <th>27</th>\n",
       "    </tr>\n",
       "  </thead>\n",
       "  <tbody>\n",
       "    <tr>\n",
       "      <th>4</th>\n",
       "      <td>0.099</td>\n",
       "      <td>0.088</td>\n",
       "      <td>0.079</td>\n",
       "      <td>0.071</td>\n",
       "      <td>0.065</td>\n",
       "    </tr>\n",
       "    <tr>\n",
       "      <th>6</th>\n",
       "      <td>0.119</td>\n",
       "      <td>0.107</td>\n",
       "      <td>0.098</td>\n",
       "      <td>0.089</td>\n",
       "      <td>0.083</td>\n",
       "    </tr>\n",
       "    <tr>\n",
       "      <th>8</th>\n",
       "      <td>0.132</td>\n",
       "      <td>0.117</td>\n",
       "      <td>0.105</td>\n",
       "      <td>0.097</td>\n",
       "      <td>0.091</td>\n",
       "    </tr>\n",
       "    <tr>\n",
       "      <th>12</th>\n",
       "      <td>0.153</td>\n",
       "      <td>0.135</td>\n",
       "      <td>0.124</td>\n",
       "      <td>0.116</td>\n",
       "      <td>0.114</td>\n",
       "    </tr>\n",
       "  </tbody>\n",
       "</table>\n",
       "</div>"
      ],
      "text/plain": [
       "       0      6      12     19     27\n",
       "4   0.099  0.088  0.079  0.071  0.065\n",
       "6   0.119  0.107  0.098  0.089  0.083\n",
       "8   0.132  0.117  0.105  0.097  0.091\n",
       "12  0.153  0.135  0.124  0.116  0.114"
      ]
     },
     "execution_count": 214,
     "metadata": {},
     "output_type": "execute_result"
    }
   ],
   "source": [
    "# data=np.stack([a1,a2,a3,a4],axis=0)\n",
    "index=columns=None\n",
    "index=[4,6,8,12]\n",
    "columns=[0,6,12,19,27]\n",
    "formatter=None\n",
    "# formatter=arrange_formatter(range(5),'{:.4f}')\n",
    "subset=None\n",
    "# subset=pd.IndexSlice[index[:4],columns]\n",
    "\n",
    "\n",
    "d2=show_data_frame(data,index,columns,formatter,subset,columns_name='')\n",
    "# d2=d2.format('{:.0f}',subset=pd.IndexSlice[index[:1],columns])\n",
    "# df=df.format('{:.4f}',subset=pd.IndexSlice[index[5:],columns[:1]])\n",
    "d2"
   ]
  },
  {
   "cell_type": "code",
   "execution_count": null,
   "metadata": {},
   "outputs": [],
   "source": []
  },
  {
   "cell_type": "code",
   "execution_count": null,
   "metadata": {},
   "outputs": [],
   "source": []
  },
  {
   "cell_type": "code",
   "execution_count": 18,
   "metadata": {
    "scrolled": true
   },
   "outputs": [
    {
     "data": {
      "text/plain": [
       "Text(0, 0.5, 'Scores')"
      ]
     },
     "execution_count": 18,
     "metadata": {},
     "output_type": "execute_result"
    },
    {
     "data": {
      "text/plain": [
       "[<matplotlib.axis.XTick at 0x1b3ffabeb50>,\n",
       " <matplotlib.axis.XTick at 0x1b3ffabeb20>,\n",
       " <matplotlib.axis.XTick at 0x1b3ffab66a0>,\n",
       " <matplotlib.axis.XTick at 0x1b3ffaf5910>]"
      ]
     },
     "execution_count": 18,
     "metadata": {},
     "output_type": "execute_result"
    },
    {
     "data": {
      "text/plain": [
       "[Text(0, 0, 'G1'), Text(1, 0, 'G2'), Text(2, 0, 'G3'), Text(3, 0, 'G4')]"
      ]
     },
     "execution_count": 18,
     "metadata": {},
     "output_type": "execute_result"
    },
    {
     "data": {
      "text/plain": [
       "<matplotlib.legend.Legend at 0x1b3ffaf5fa0>"
      ]
     },
     "execution_count": 18,
     "metadata": {},
     "output_type": "execute_result"
    },
    {
     "data": {
      "image/png": "[encoded data removed]",
      "text/plain": [
       "<Figure size 432x288 with 1 Axes>"
      ]
     },
     "metadata": {
      "needs_background": "light"
     },
     "output_type": "display_data"
    }
   ],
   "source": [
    "labels = ['G1', 'G2', 'G3', 'G4',]\n",
    "\n",
    "x = np.arange(len(labels))  # the label locations\n",
    "width = 0.35  # the width of the bars\n",
    "\n",
    "fig, ax = plt.subplots()\n",
    "rects1 = ax.bar(x - width/2, SDS_n, width, label='SDS')\n",
    "rects2 = ax.bar(x + width/2, BDI_n, width, label='BDI')\n",
    "\n",
    "# Add some text for labels, title and custom x-axis tick labels, etc.\n",
    "ax.set_ylabel('Scores')\n",
    "ax.set_xticks(x)\n",
    "ax.set_xticklabels(labels)\n",
    "ax.legend()\n",
    "\n",
    "fig.tight_layout()\n",
    "\n",
    "plt.show()"
   ]
  },
  {
   "cell_type": "code",
   "execution_count": 22,
   "metadata": {},
   "outputs": [
    {
     "data": {
      "text/plain": [
       "<matplotlib.patches.Polygon at 0x26d5f124e08>"
      ]
     },
     "execution_count": 22,
     "metadata": {},
     "output_type": "execute_result"
    },
    {
     "data": {
      "text/plain": [
       "(0.00035467154811715494, 0.015)"
      ]
     },
     "execution_count": 22,
     "metadata": {},
     "output_type": "execute_result"
    },
    {
     "data": {
      "text/plain": [
       "(3, 9)"
      ]
     },
     "execution_count": 22,
     "metadata": {},
     "output_type": "execute_result"
    },
    {
     "data": {
      "text/plain": [
       "Text(0.5, 0, 'v')"
      ]
     },
     "execution_count": 22,
     "metadata": {},
     "output_type": "execute_result"
    },
    {
     "data": {
      "text/plain": [
       "Text(0, 0.5, 'p/MPa')"
      ]
     },
     "execution_count": 22,
     "metadata": {},
     "output_type": "execute_result"
    },
    {
     "data": {
      "image/png": "[encoded data removed]",
      "text/plain": [
       "<Figure size 432x288 with 1 Axes>"
      ]
     },
     "metadata": {
      "needs_background": "light"
     },
     "output_type": "display_data"
    }
   ],
   "source": [
    "ax=plt.subplot(1,1,1)\n",
    "for i in range(len(h)):\n",
    "    temp=ax.plot(h[i],p[i])\n",
    "poly=plt.Polygon(data,facecolor='0.7')\n",
    "ax.add_patch(poly)\n",
    "plt.xlim(right=1.5e-2)\n",
    "plt.ylim([3,9])\n",
    "plt.xlabel('v')\n",
    "plt.ylabel('p/MPa')"
   ]
  },
  {
   "cell_type": "code",
   "execution_count": null,
   "metadata": {},
   "outputs": [],
   "source": []
  },
  {
   "cell_type": "code",
   "execution_count": 28,
   "metadata": {},
   "outputs": [
    {
     "name": "stdout",
     "output_type": "stream",
     "text": [
      "Help on function curve_fit in module scipy.optimize.minpack:\n",
      "\n",
      "curve_fit(f, xdata, ydata, p0=None, sigma=None, absolute_sigma=False, check_finite=True, bounds=(-inf, inf), method=None, jac=None, **kwargs)\n",
      "    Use non-linear least squares to fit a function, f, to data.\n",
      "    \n",
      "    Assumes ``ydata = f(xdata, *params) + eps``\n",
      "    \n",
      "    Parameters\n",
      "    ----------\n",
      "    f : callable\n",
      "        The model function, f(x, ...).  It must take the independent\n",
      "        variable as the first argument and the parameters to fit as\n",
      "        separate remaining arguments.\n",
      "    xdata : array_like or object\n",
      "        The independent variable where the data is measured.\n",
      "        Should usually be an M-length sequence or an (k,M)-shaped array for\n",
      "        functions with k predictors, but can actually be any object.\n",
      "    ydata : array_like\n",
      "        The dependent data, a length M array - nominally ``f(xdata, ...)``.\n",
      "    p0 : array_like, optional\n",
      "        Initial guess for the parameters (length N).  If None, then the\n",
      "        initial values will all be 1 (if the number of parameters for the\n",
      "        function can be determined using introspection, otherwise a\n",
      "        ValueError is raised).\n",
      "    sigma : None or M-length sequence or MxM array, optional\n",
      "        Determines the uncertainty in `ydata`. If we define residuals as\n",
      "        ``r = ydata - f(xdata, *popt)``, then the interpretation of `sigma`\n",
      "        depends on its number of dimensions:\n",
      "    \n",
      "            - A 1-d `sigma` should contain values of standard deviations of\n",
      "              errors in `ydata`. In this case, the optimized function is\n",
      "              ``chisq = sum((r / sigma) ** 2)``.\n",
      "    \n",
      "            - A 2-d `sigma` should contain the covariance matrix of\n",
      "              errors in `ydata`. In this case, the optimized function is\n",
      "              ``chisq = r.T @ inv(sigma) @ r``.\n",
      "    \n",
      "              .. versionadded:: 0.19\n",
      "    \n",
      "        None (default) is equivalent of 1-d `sigma` filled with ones.\n",
      "    absolute_sigma : bool, optional\n",
      "        If True, `sigma` is used in an absolute sense and the estimated parameter\n",
      "        covariance `pcov` reflects these absolute values.\n",
      "    \n",
      "        If False, only the relative magnitudes of the `sigma` values matter.\n",
      "        The returned parameter covariance matrix `pcov` is based on scaling\n",
      "        `sigma` by a constant factor. This constant is set by demanding that the\n",
      "        reduced `chisq` for the optimal parameters `popt` when using the\n",
      "        *scaled* `sigma` equals unity. In other words, `sigma` is scaled to\n",
      "        match the sample variance of the residuals after the fit.\n",
      "        Mathematically,\n",
      "        ``pcov(absolute_sigma=False) = pcov(absolute_sigma=True) * chisq(popt)/(M-N)``\n",
      "    check_finite : bool, optional\n",
      "        If True, check that the input arrays do not contain nans of infs,\n",
      "        and raise a ValueError if they do. Setting this parameter to\n",
      "        False may silently produce nonsensical results if the input arrays\n",
      "        do contain nans. Default is True.\n",
      "    bounds : 2-tuple of array_like, optional\n",
      "        Lower and upper bounds on parameters. Defaults to no bounds.\n",
      "        Each element of the tuple must be either an array with the length equal\n",
      "        to the number of parameters, or a scalar (in which case the bound is\n",
      "        taken to be the same for all parameters.) Use ``np.inf`` with an\n",
      "        appropriate sign to disable bounds on all or some parameters.\n",
      "    \n",
      "        .. versionadded:: 0.17\n",
      "    method : {'lm', 'trf', 'dogbox'}, optional\n",
      "        Method to use for optimization.  See `least_squares` for more details.\n",
      "        Default is 'lm' for unconstrained problems and 'trf' if `bounds` are\n",
      "        provided. The method 'lm' won't work when the number of observations\n",
      "        is less than the number of variables, use 'trf' or 'dogbox' in this\n",
      "        case.\n",
      "    \n",
      "        .. versionadded:: 0.17\n",
      "    jac : callable, string or None, optional\n",
      "        Function with signature ``jac(x, ...)`` which computes the Jacobian\n",
      "        matrix of the model function with respect to parameters as a dense\n",
      "        array_like structure. It will be scaled according to provided `sigma`.\n",
      "        If None (default), the Jacobian will be estimated numerically.\n",
      "        String keywords for 'trf' and 'dogbox' methods can be used to select\n",
      "        a finite difference scheme, see `least_squares`.\n",
      "    \n",
      "        .. versionadded:: 0.18\n",
      "    kwargs\n",
      "        Keyword arguments passed to `leastsq` for ``method='lm'`` or\n",
      "        `least_squares` otherwise.\n",
      "    \n",
      "    Returns\n",
      "    -------\n",
      "    popt : array\n",
      "        Optimal values for the parameters so that the sum of the squared\n",
      "        residuals of ``f(xdata, *popt) - ydata`` is minimized\n",
      "    pcov : 2d array\n",
      "        The estimated covariance of popt. The diagonals provide the variance\n",
      "        of the parameter estimate. To compute one standard deviation errors\n",
      "        on the parameters use ``perr = np.sqrt(np.diag(pcov))``.\n",
      "    \n",
      "        How the `sigma` parameter affects the estimated covariance\n",
      "        depends on `absolute_sigma` argument, as described above.\n",
      "    \n",
      "        If the Jacobian matrix at the solution doesn't have a full rank, then\n",
      "        'lm' method returns a matrix filled with ``np.inf``, on the other hand\n",
      "        'trf'  and 'dogbox' methods use Moore-Penrose pseudoinverse to compute\n",
      "        the covariance matrix.\n",
      "    \n",
      "    Raises\n",
      "    ------\n",
      "    ValueError\n",
      "        if either `ydata` or `xdata` contain NaNs, or if incompatible options\n",
      "        are used.\n",
      "    \n",
      "    RuntimeError\n",
      "        if the least-squares minimization fails.\n",
      "    \n",
      "    OptimizeWarning\n",
      "        if covariance of the parameters can not be estimated.\n",
      "    \n",
      "    See Also\n",
      "    --------\n",
      "    least_squares : Minimize the sum of squares of nonlinear functions.\n",
      "    scipy.stats.linregress : Calculate a linear least squares regression for\n",
      "                             two sets of measurements.\n",
      "    \n",
      "    Notes\n",
      "    -----\n",
      "    With ``method='lm'``, the algorithm uses the Levenberg-Marquardt algorithm\n",
      "    through `leastsq`. Note that this algorithm can only deal with\n",
      "    unconstrained problems.\n",
      "    \n",
      "    Box constraints can be handled by methods 'trf' and 'dogbox'. Refer to\n",
      "    the docstring of `least_squares` for more information.\n",
      "    \n",
      "    Examples\n",
      "    --------\n",
      "    >>> import matplotlib.pyplot as plt\n",
      "    >>> from scipy.optimize import curve_fit\n",
      "    \n",
      "    >>> def func(x, a, b, c):\n",
      "    ...     return a * np.exp(-b * x) + c\n",
      "    \n",
      "    Define the data to be fit with some noise:\n",
      "    \n",
      "    >>> xdata = np.linspace(0, 4, 50)\n",
      "    >>> y = func(xdata, 2.5, 1.3, 0.5)\n",
      "    >>> np.random.seed(1729)\n",
      "    >>> y_noise = 0.2 * np.random.normal(size=xdata.size)\n",
      "    >>> ydata = y + y_noise\n",
      "    >>> plt.plot(xdata, ydata, 'b-', label='data')\n",
      "    \n",
      "    Fit for the parameters a, b, c of the function `func`:\n",
      "    \n",
      "    >>> popt, pcov = curve_fit(func, xdata, ydata)\n",
      "    >>> popt\n",
      "    array([ 2.55423706,  1.35190947,  0.47450618])\n",
      "    >>> plt.plot(xdata, func(xdata, *popt), 'r-',\n",
      "    ...          label='fit: a=%5.3f, b=%5.3f, c=%5.3f' % tuple(popt))\n",
      "    \n",
      "    Constrain the optimization to the region of ``0 <= a <= 3``,\n",
      "    ``0 <= b <= 1`` and ``0 <= c <= 0.5``:\n",
      "    \n",
      "    >>> popt, pcov = curve_fit(func, xdata, ydata, bounds=(0, [3., 1., 0.5]))\n",
      "    >>> popt\n",
      "    array([ 2.43708906,  1.        ,  0.35015434])\n",
      "    >>> plt.plot(xdata, func(xdata, *popt), 'g--',\n",
      "    ...          label='fit: a=%5.3f, b=%5.3f, c=%5.3f' % tuple(popt))\n",
      "    \n",
      "    >>> plt.xlabel('x')\n",
      "    >>> plt.ylabel('y')\n",
      "    >>> plt.legend()\n",
      "    >>> plt.show()\n",
      "\n"
     ]
    }
   ],
   "source": [
    "help(scipy.optimize.curve_fit)"
   ]
  },
  {
   "cell_type": "code",
   "execution_count": 11,
   "metadata": {
    "scrolled": true
   },
   "outputs": [
    {
     "name": "stdout",
     "output_type": "stream",
     "text": [
      "[   8.12032223 1757.50243945  235.63950216]\n"
     ]
    }
   ],
   "source": [
    "\n",
    "def func(indep_vars,A,B,C):\n",
    "    T=indep_vars\n",
    "    \n",
    "    return A-B/(T+C)\n",
    "\n",
    "#以水的饱和蒸气压为例\n",
    "t=np.array([0,10,20,30,40,50,60,70])\n",
    "p=np.array([610,1228,2338,4242,7375,12333,19910,31157])\n",
    "\n",
    "lgp=np.log10(p*(760/101e3))#转化为mmHg并取对数\n",
    "\n",
    "var,co=optimize.curve_fit(func,xdata=t,ydata=lgp, maxfev=9999)\n",
    "print(var)\n",
    "pred=func(t,*var)\n",
    "real=func(t,8.07,1730,233) #文献值"
   ]
  },
  {
   "cell_type": "code",
   "execution_count": null,
   "metadata": {},
   "outputs": [],
   "source": []
  },
  {
   "cell_type": "code",
   "execution_count": null,
   "metadata": {},
   "outputs": [],
   "source": []
  }
 ],
 "metadata": {
  "kernelspec": {
   "display_name": "Python 3",
   "language": "python",
   "name": "python3"
  },
  "language_info": {
   "codemirror_mode": {
    "name": "ipython",
    "version": 3
   },
   "file_extension": ".py",
   "mimetype": "text/x-python",
   "name": "python",
   "nbconvert_exporter": "python",
   "pygments_lexer": "ipython3",
   "version": "3.8.5"
  }
 },
 "nbformat": 4,
 "nbformat_minor": 2
}
